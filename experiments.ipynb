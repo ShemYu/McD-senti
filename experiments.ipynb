{
 "cells": [
  {
   "cell_type": "code",
   "execution_count": 17,
   "id": "f2e9d898",
   "metadata": {
    "_cell_guid": "b1076dfc-b9ad-4769-8c92-a6c4dae69d19",
    "_uuid": "8f2839f25d086af736a60e9eeb907d3b93b6e0e5",
    "execution": {
     "iopub.execute_input": "2023-08-27T05:07:12.327293Z",
     "iopub.status.busy": "2023-08-27T05:07:12.326936Z",
     "iopub.status.idle": "2023-08-27T05:07:12.361756Z",
     "shell.execute_reply": "2023-08-27T05:07:12.360238Z"
    },
    "papermill": {
     "duration": 0.047346,
     "end_time": "2023-08-27T05:07:12.364990",
     "exception": false,
     "start_time": "2023-08-27T05:07:12.317644",
     "status": "completed"
    },
    "tags": []
   },
   "outputs": [],
   "source": [
    "# This Python 3 environment comes with many helpful analytics libraries installed\n",
    "# It is defined by the kaggle/python Docker image: https://github.com/kaggle/docker-python\n",
    "# For example, here's several helpful packages to load\n",
    "\n",
    "import numpy as np # linear algebra\n",
    "import pandas as pd # data processing, CSV file I/O (e.g. pd.read_csv)\n",
    "\n",
    "# Input data files are available in the read-only \"../input/\" directory\n",
    "# For example, running this (by clicking run or pressing Shift+Enter) will list all files under the input directory\n",
    "\n",
    "# import os\n",
    "# for dirname, _, filenames in os.walk('/kaggle/input'):\n",
    "#     for filename in filenames:\n",
    "#         print(os.path.join(dirname, filename))\n",
    "\n",
    "# You can write up to 20GB to the current directory (/kaggle/working/) that gets preserved as output when you create a version using \"Save & Run All\" \n",
    "# You can also write temporary files to /kaggle/temp/, but they won't be saved outside of the current session"
   ]
  },
  {
   "cell_type": "code",
   "execution_count": 18,
   "id": "c41ee7b9",
   "metadata": {},
   "outputs": [
    {
     "name": "stdout",
     "output_type": "stream",
     "text": [
      "Python 3.8.0\n"
     ]
    }
   ],
   "source": [
    "! python --version"
   ]
  },
  {
   "cell_type": "markdown",
   "id": "19eafd0f",
   "metadata": {
    "papermill": {
     "duration": 0.006869,
     "end_time": "2023-08-27T05:07:12.379112",
     "exception": false,
     "start_time": "2023-08-27T05:07:12.372243",
     "status": "completed"
    },
    "tags": []
   },
   "source": [
    "# Data processing"
   ]
  },
  {
   "cell_type": "code",
   "execution_count": 24,
   "id": "ba5ccbfd",
   "metadata": {
    "execution": {
     "iopub.execute_input": "2023-08-27T05:07:12.394658Z",
     "iopub.status.busy": "2023-08-27T05:07:12.394297Z",
     "iopub.status.idle": "2023-08-27T05:07:12.712628Z",
     "shell.execute_reply": "2023-08-27T05:07:12.711527Z"
    },
    "papermill": {
     "duration": 0.329485,
     "end_time": "2023-08-27T05:07:12.715457",
     "exception": false,
     "start_time": "2023-08-27T05:07:12.385972",
     "status": "completed"
    },
    "tags": []
   },
   "outputs": [
    {
     "data": {
      "text/html": [
       "<div>\n",
       "<style scoped>\n",
       "    .dataframe tbody tr th:only-of-type {\n",
       "        vertical-align: middle;\n",
       "    }\n",
       "\n",
       "    .dataframe tbody tr th {\n",
       "        vertical-align: top;\n",
       "    }\n",
       "\n",
       "    .dataframe thead th {\n",
       "        text-align: right;\n",
       "    }\n",
       "</style>\n",
       "<table border=\"1\" class=\"dataframe\">\n",
       "  <thead>\n",
       "    <tr style=\"text-align: right;\">\n",
       "      <th></th>\n",
       "      <th>reviewer_id</th>\n",
       "      <th>store_name</th>\n",
       "      <th>category</th>\n",
       "      <th>store_address</th>\n",
       "      <th>latitude</th>\n",
       "      <th>longitude</th>\n",
       "      <th>rating_count</th>\n",
       "      <th>review_time</th>\n",
       "      <th>review</th>\n",
       "      <th>rating</th>\n",
       "    </tr>\n",
       "  </thead>\n",
       "  <tbody>\n",
       "    <tr>\n",
       "      <th>0</th>\n",
       "      <td>1</td>\n",
       "      <td>McDonald's</td>\n",
       "      <td>Fast food restaurant</td>\n",
       "      <td>13749 US-183 Hwy, Austin, TX 78750, United States</td>\n",
       "      <td>30.460718</td>\n",
       "      <td>-97.792874</td>\n",
       "      <td>1,240</td>\n",
       "      <td>3 months ago</td>\n",
       "      <td>Why does it look like someone spit on my food?...</td>\n",
       "      <td>1 star</td>\n",
       "    </tr>\n",
       "    <tr>\n",
       "      <th>1</th>\n",
       "      <td>2</td>\n",
       "      <td>McDonald's</td>\n",
       "      <td>Fast food restaurant</td>\n",
       "      <td>13749 US-183 Hwy, Austin, TX 78750, United States</td>\n",
       "      <td>30.460718</td>\n",
       "      <td>-97.792874</td>\n",
       "      <td>1,240</td>\n",
       "      <td>5 days ago</td>\n",
       "      <td>It'd McDonalds. It is what it is as far as the...</td>\n",
       "      <td>4 stars</td>\n",
       "    </tr>\n",
       "    <tr>\n",
       "      <th>2</th>\n",
       "      <td>3</td>\n",
       "      <td>McDonald's</td>\n",
       "      <td>Fast food restaurant</td>\n",
       "      <td>13749 US-183 Hwy, Austin, TX 78750, United States</td>\n",
       "      <td>30.460718</td>\n",
       "      <td>-97.792874</td>\n",
       "      <td>1,240</td>\n",
       "      <td>5 days ago</td>\n",
       "      <td>Made a mobile order got to the speaker and che...</td>\n",
       "      <td>1 star</td>\n",
       "    </tr>\n",
       "    <tr>\n",
       "      <th>3</th>\n",
       "      <td>4</td>\n",
       "      <td>McDonald's</td>\n",
       "      <td>Fast food restaurant</td>\n",
       "      <td>13749 US-183 Hwy, Austin, TX 78750, United States</td>\n",
       "      <td>30.460718</td>\n",
       "      <td>-97.792874</td>\n",
       "      <td>1,240</td>\n",
       "      <td>a month ago</td>\n",
       "      <td>My mc. Crispy chicken sandwich was ï¿½ï¿½ï¿½ï¿...</td>\n",
       "      <td>5 stars</td>\n",
       "    </tr>\n",
       "    <tr>\n",
       "      <th>4</th>\n",
       "      <td>5</td>\n",
       "      <td>McDonald's</td>\n",
       "      <td>Fast food restaurant</td>\n",
       "      <td>13749 US-183 Hwy, Austin, TX 78750, United States</td>\n",
       "      <td>30.460718</td>\n",
       "      <td>-97.792874</td>\n",
       "      <td>1,240</td>\n",
       "      <td>2 months ago</td>\n",
       "      <td>I repeat my order 3 times in the drive thru, a...</td>\n",
       "      <td>1 star</td>\n",
       "    </tr>\n",
       "    <tr>\n",
       "      <th>...</th>\n",
       "      <td>...</td>\n",
       "      <td>...</td>\n",
       "      <td>...</td>\n",
       "      <td>...</td>\n",
       "      <td>...</td>\n",
       "      <td>...</td>\n",
       "      <td>...</td>\n",
       "      <td>...</td>\n",
       "      <td>...</td>\n",
       "      <td>...</td>\n",
       "    </tr>\n",
       "    <tr>\n",
       "      <th>33391</th>\n",
       "      <td>33392</td>\n",
       "      <td>McDonald's</td>\n",
       "      <td>Fast food restaurant</td>\n",
       "      <td>3501 Biscayne Blvd, Miami, FL 33137, United St...</td>\n",
       "      <td>25.810000</td>\n",
       "      <td>-80.189098</td>\n",
       "      <td>2,810</td>\n",
       "      <td>4 years ago</td>\n",
       "      <td>They treated me very badly.</td>\n",
       "      <td>1 star</td>\n",
       "    </tr>\n",
       "    <tr>\n",
       "      <th>33392</th>\n",
       "      <td>33393</td>\n",
       "      <td>McDonald's</td>\n",
       "      <td>Fast food restaurant</td>\n",
       "      <td>3501 Biscayne Blvd, Miami, FL 33137, United St...</td>\n",
       "      <td>25.810000</td>\n",
       "      <td>-80.189098</td>\n",
       "      <td>2,810</td>\n",
       "      <td>a year ago</td>\n",
       "      <td>The service is very good</td>\n",
       "      <td>5 stars</td>\n",
       "    </tr>\n",
       "    <tr>\n",
       "      <th>33393</th>\n",
       "      <td>33394</td>\n",
       "      <td>McDonald's</td>\n",
       "      <td>Fast food restaurant</td>\n",
       "      <td>3501 Biscayne Blvd, Miami, FL 33137, United St...</td>\n",
       "      <td>25.810000</td>\n",
       "      <td>-80.189098</td>\n",
       "      <td>2,810</td>\n",
       "      <td>a year ago</td>\n",
       "      <td>To remove hunger is enough</td>\n",
       "      <td>4 stars</td>\n",
       "    </tr>\n",
       "    <tr>\n",
       "      <th>33394</th>\n",
       "      <td>33395</td>\n",
       "      <td>McDonald's</td>\n",
       "      <td>Fast food restaurant</td>\n",
       "      <td>3501 Biscayne Blvd, Miami, FL 33137, United St...</td>\n",
       "      <td>25.810000</td>\n",
       "      <td>-80.189098</td>\n",
       "      <td>2,810</td>\n",
       "      <td>5 years ago</td>\n",
       "      <td>It's good, but lately it has become very expen...</td>\n",
       "      <td>5 stars</td>\n",
       "    </tr>\n",
       "    <tr>\n",
       "      <th>33395</th>\n",
       "      <td>33396</td>\n",
       "      <td>McDonald's</td>\n",
       "      <td>Fast food restaurant</td>\n",
       "      <td>3501 Biscayne Blvd, Miami, FL 33137, United St...</td>\n",
       "      <td>25.810000</td>\n",
       "      <td>-80.189098</td>\n",
       "      <td>2,810</td>\n",
       "      <td>2 years ago</td>\n",
       "      <td>they took good care of me</td>\n",
       "      <td>5 stars</td>\n",
       "    </tr>\n",
       "  </tbody>\n",
       "</table>\n",
       "<p>33396 rows × 10 columns</p>\n",
       "</div>"
      ],
      "text/plain": [
       "       reviewer_id  store_name              category  \\\n",
       "0                1  McDonald's  Fast food restaurant   \n",
       "1                2  McDonald's  Fast food restaurant   \n",
       "2                3  McDonald's  Fast food restaurant   \n",
       "3                4  McDonald's  Fast food restaurant   \n",
       "4                5  McDonald's  Fast food restaurant   \n",
       "...            ...         ...                   ...   \n",
       "33391        33392  McDonald's  Fast food restaurant   \n",
       "33392        33393  McDonald's  Fast food restaurant   \n",
       "33393        33394  McDonald's  Fast food restaurant   \n",
       "33394        33395  McDonald's  Fast food restaurant   \n",
       "33395        33396  McDonald's  Fast food restaurant   \n",
       "\n",
       "                                           store_address  latitude   \\\n",
       "0      13749 US-183 Hwy, Austin, TX 78750, United States  30.460718   \n",
       "1      13749 US-183 Hwy, Austin, TX 78750, United States  30.460718   \n",
       "2      13749 US-183 Hwy, Austin, TX 78750, United States  30.460718   \n",
       "3      13749 US-183 Hwy, Austin, TX 78750, United States  30.460718   \n",
       "4      13749 US-183 Hwy, Austin, TX 78750, United States  30.460718   \n",
       "...                                                  ...        ...   \n",
       "33391  3501 Biscayne Blvd, Miami, FL 33137, United St...  25.810000   \n",
       "33392  3501 Biscayne Blvd, Miami, FL 33137, United St...  25.810000   \n",
       "33393  3501 Biscayne Blvd, Miami, FL 33137, United St...  25.810000   \n",
       "33394  3501 Biscayne Blvd, Miami, FL 33137, United St...  25.810000   \n",
       "33395  3501 Biscayne Blvd, Miami, FL 33137, United St...  25.810000   \n",
       "\n",
       "       longitude rating_count   review_time  \\\n",
       "0     -97.792874        1,240  3 months ago   \n",
       "1     -97.792874        1,240    5 days ago   \n",
       "2     -97.792874        1,240    5 days ago   \n",
       "3     -97.792874        1,240   a month ago   \n",
       "4     -97.792874        1,240  2 months ago   \n",
       "...          ...          ...           ...   \n",
       "33391 -80.189098        2,810   4 years ago   \n",
       "33392 -80.189098        2,810    a year ago   \n",
       "33393 -80.189098        2,810    a year ago   \n",
       "33394 -80.189098        2,810   5 years ago   \n",
       "33395 -80.189098        2,810   2 years ago   \n",
       "\n",
       "                                                  review   rating  \n",
       "0      Why does it look like someone spit on my food?...   1 star  \n",
       "1      It'd McDonalds. It is what it is as far as the...  4 stars  \n",
       "2      Made a mobile order got to the speaker and che...   1 star  \n",
       "3      My mc. Crispy chicken sandwich was ï¿½ï¿½ï¿½ï¿...  5 stars  \n",
       "4      I repeat my order 3 times in the drive thru, a...   1 star  \n",
       "...                                                  ...      ...  \n",
       "33391                        They treated me very badly.   1 star  \n",
       "33392                           The service is very good  5 stars  \n",
       "33393                         To remove hunger is enough  4 stars  \n",
       "33394  It's good, but lately it has become very expen...  5 stars  \n",
       "33395                          they took good care of me  5 stars  \n",
       "\n",
       "[33396 rows x 10 columns]"
      ]
     },
     "execution_count": 24,
     "metadata": {},
     "output_type": "execute_result"
    }
   ],
   "source": [
    "df = pd.read_csv(\"McDonald_s_Reviews.csv\", encoding='ISO-8859-1')\n",
    "df"
   ]
  },
  {
   "cell_type": "code",
   "execution_count": 33,
   "id": "084862c1",
   "metadata": {
    "execution": {
     "iopub.execute_input": "2023-08-27T05:07:12.732229Z",
     "iopub.status.busy": "2023-08-27T05:07:12.731793Z",
     "iopub.status.idle": "2023-08-27T05:07:12.791432Z",
     "shell.execute_reply": "2023-08-27T05:07:12.790129Z"
    },
    "papermill": {
     "duration": 0.072819,
     "end_time": "2023-08-27T05:07:12.795836",
     "exception": false,
     "start_time": "2023-08-27T05:07:12.723017",
     "status": "completed"
    },
    "tags": []
   },
   "outputs": [
    {
     "data": {
      "text/plain": [
       "0        1\n",
       "1        4\n",
       "2        1\n",
       "3        5\n",
       "4        1\n",
       "        ..\n",
       "33391    1\n",
       "33392    5\n",
       "33393    4\n",
       "33394    5\n",
       "33395    5\n",
       "Name: rating, Length: 33396, dtype: int64"
      ]
     },
     "execution_count": 33,
     "metadata": {},
     "output_type": "execute_result"
    }
   ],
   "source": [
    "# df.rating = df.rating.str.replace(\" star.*\", \"\").astype(int)\n",
    "# df.rating\n",
    "\n",
    "df.rating = df.rating.replace(r'(\\d+) star.*', r'\\1', regex=True).astype(int)\n",
    "df.rating\n"
   ]
  },
  {
   "cell_type": "code",
   "execution_count": 34,
   "id": "b7f163dc",
   "metadata": {
    "execution": {
     "iopub.execute_input": "2023-08-27T05:07:12.813047Z",
     "iopub.status.busy": "2023-08-27T05:07:12.812640Z",
     "iopub.status.idle": "2023-08-27T05:07:12.832926Z",
     "shell.execute_reply": "2023-08-27T05:07:12.831864Z"
    },
    "papermill": {
     "duration": 0.031886,
     "end_time": "2023-08-27T05:07:12.835422",
     "exception": false,
     "start_time": "2023-08-27T05:07:12.803536",
     "status": "completed"
    },
    "tags": []
   },
   "outputs": [
    {
     "data": {
      "text/html": [
       "<div>\n",
       "<style scoped>\n",
       "    .dataframe tbody tr th:only-of-type {\n",
       "        vertical-align: middle;\n",
       "    }\n",
       "\n",
       "    .dataframe tbody tr th {\n",
       "        vertical-align: top;\n",
       "    }\n",
       "\n",
       "    .dataframe thead th {\n",
       "        text-align: right;\n",
       "    }\n",
       "</style>\n",
       "<table border=\"1\" class=\"dataframe\">\n",
       "  <thead>\n",
       "    <tr style=\"text-align: right;\">\n",
       "      <th></th>\n",
       "      <th>latitude</th>\n",
       "      <th>rating_count</th>\n",
       "      <th>review</th>\n",
       "      <th>rating</th>\n",
       "    </tr>\n",
       "  </thead>\n",
       "  <tbody>\n",
       "    <tr>\n",
       "      <th>0</th>\n",
       "      <td>30.460718</td>\n",
       "      <td>1,240</td>\n",
       "      <td>Why does it look like someone spit on my food?...</td>\n",
       "      <td>1</td>\n",
       "    </tr>\n",
       "    <tr>\n",
       "      <th>1</th>\n",
       "      <td>30.460718</td>\n",
       "      <td>1,240</td>\n",
       "      <td>It'd McDonalds. It is what it is as far as the...</td>\n",
       "      <td>4</td>\n",
       "    </tr>\n",
       "    <tr>\n",
       "      <th>2</th>\n",
       "      <td>30.460718</td>\n",
       "      <td>1,240</td>\n",
       "      <td>Made a mobile order got to the speaker and che...</td>\n",
       "      <td>1</td>\n",
       "    </tr>\n",
       "    <tr>\n",
       "      <th>3</th>\n",
       "      <td>30.460718</td>\n",
       "      <td>1,240</td>\n",
       "      <td>My mc. Crispy chicken sandwich was ï¿½ï¿½ï¿½ï¿...</td>\n",
       "      <td>5</td>\n",
       "    </tr>\n",
       "    <tr>\n",
       "      <th>4</th>\n",
       "      <td>30.460718</td>\n",
       "      <td>1,240</td>\n",
       "      <td>I repeat my order 3 times in the drive thru, a...</td>\n",
       "      <td>1</td>\n",
       "    </tr>\n",
       "    <tr>\n",
       "      <th>...</th>\n",
       "      <td>...</td>\n",
       "      <td>...</td>\n",
       "      <td>...</td>\n",
       "      <td>...</td>\n",
       "    </tr>\n",
       "    <tr>\n",
       "      <th>33391</th>\n",
       "      <td>25.810000</td>\n",
       "      <td>2,810</td>\n",
       "      <td>They treated me very badly.</td>\n",
       "      <td>1</td>\n",
       "    </tr>\n",
       "    <tr>\n",
       "      <th>33392</th>\n",
       "      <td>25.810000</td>\n",
       "      <td>2,810</td>\n",
       "      <td>The service is very good</td>\n",
       "      <td>5</td>\n",
       "    </tr>\n",
       "    <tr>\n",
       "      <th>33393</th>\n",
       "      <td>25.810000</td>\n",
       "      <td>2,810</td>\n",
       "      <td>To remove hunger is enough</td>\n",
       "      <td>4</td>\n",
       "    </tr>\n",
       "    <tr>\n",
       "      <th>33394</th>\n",
       "      <td>25.810000</td>\n",
       "      <td>2,810</td>\n",
       "      <td>It's good, but lately it has become very expen...</td>\n",
       "      <td>5</td>\n",
       "    </tr>\n",
       "    <tr>\n",
       "      <th>33395</th>\n",
       "      <td>25.810000</td>\n",
       "      <td>2,810</td>\n",
       "      <td>they took good care of me</td>\n",
       "      <td>5</td>\n",
       "    </tr>\n",
       "  </tbody>\n",
       "</table>\n",
       "<p>33396 rows × 4 columns</p>\n",
       "</div>"
      ],
      "text/plain": [
       "       latitude  rating_count  \\\n",
       "0      30.460718        1,240   \n",
       "1      30.460718        1,240   \n",
       "2      30.460718        1,240   \n",
       "3      30.460718        1,240   \n",
       "4      30.460718        1,240   \n",
       "...          ...          ...   \n",
       "33391  25.810000        2,810   \n",
       "33392  25.810000        2,810   \n",
       "33393  25.810000        2,810   \n",
       "33394  25.810000        2,810   \n",
       "33395  25.810000        2,810   \n",
       "\n",
       "                                                  review  rating  \n",
       "0      Why does it look like someone spit on my food?...       1  \n",
       "1      It'd McDonalds. It is what it is as far as the...       4  \n",
       "2      Made a mobile order got to the speaker and che...       1  \n",
       "3      My mc. Crispy chicken sandwich was ï¿½ï¿½ï¿½ï¿...       5  \n",
       "4      I repeat my order 3 times in the drive thru, a...       1  \n",
       "...                                                  ...     ...  \n",
       "33391                        They treated me very badly.       1  \n",
       "33392                           The service is very good       5  \n",
       "33393                         To remove hunger is enough       4  \n",
       "33394  It's good, but lately it has become very expen...       5  \n",
       "33395                          they took good care of me       5  \n",
       "\n",
       "[33396 rows x 4 columns]"
      ]
     },
     "execution_count": 34,
     "metadata": {},
     "output_type": "execute_result"
    }
   ],
   "source": [
    "df = df.drop([\"reviewer_id\", \"store_name\", \"category\", \"store_address\", \"longitude\", \"review_time\"], axis=1)\n",
    "df"
   ]
  },
  {
   "cell_type": "code",
   "execution_count": 35,
   "id": "9424cfac",
   "metadata": {
    "execution": {
     "iopub.execute_input": "2023-08-27T05:07:12.853480Z",
     "iopub.status.busy": "2023-08-27T05:07:12.853105Z",
     "iopub.status.idle": "2023-08-27T05:07:12.867973Z",
     "shell.execute_reply": "2023-08-27T05:07:12.866863Z"
    },
    "papermill": {
     "duration": 0.027117,
     "end_time": "2023-08-27T05:07:12.870723",
     "exception": false,
     "start_time": "2023-08-27T05:07:12.843606",
     "status": "completed"
    },
    "tags": []
   },
   "outputs": [
    {
     "data": {
      "text/html": [
       "<div>\n",
       "<style scoped>\n",
       "    .dataframe tbody tr th:only-of-type {\n",
       "        vertical-align: middle;\n",
       "    }\n",
       "\n",
       "    .dataframe tbody tr th {\n",
       "        vertical-align: top;\n",
       "    }\n",
       "\n",
       "    .dataframe thead th {\n",
       "        text-align: right;\n",
       "    }\n",
       "</style>\n",
       "<table border=\"1\" class=\"dataframe\">\n",
       "  <thead>\n",
       "    <tr style=\"text-align: right;\">\n",
       "      <th></th>\n",
       "      <th>rating_count</th>\n",
       "      <th>review</th>\n",
       "      <th>rating</th>\n",
       "    </tr>\n",
       "  </thead>\n",
       "  <tbody>\n",
       "    <tr>\n",
       "      <th>0</th>\n",
       "      <td>1,240</td>\n",
       "      <td>Why does it look like someone spit on my food?...</td>\n",
       "      <td>1</td>\n",
       "    </tr>\n",
       "    <tr>\n",
       "      <th>1</th>\n",
       "      <td>1,240</td>\n",
       "      <td>It'd McDonalds. It is what it is as far as the...</td>\n",
       "      <td>4</td>\n",
       "    </tr>\n",
       "    <tr>\n",
       "      <th>2</th>\n",
       "      <td>1,240</td>\n",
       "      <td>Made a mobile order got to the speaker and che...</td>\n",
       "      <td>1</td>\n",
       "    </tr>\n",
       "    <tr>\n",
       "      <th>3</th>\n",
       "      <td>1,240</td>\n",
       "      <td>My mc. Crispy chicken sandwich was ï¿½ï¿½ï¿½ï¿...</td>\n",
       "      <td>5</td>\n",
       "    </tr>\n",
       "    <tr>\n",
       "      <th>4</th>\n",
       "      <td>1,240</td>\n",
       "      <td>I repeat my order 3 times in the drive thru, a...</td>\n",
       "      <td>1</td>\n",
       "    </tr>\n",
       "    <tr>\n",
       "      <th>...</th>\n",
       "      <td>...</td>\n",
       "      <td>...</td>\n",
       "      <td>...</td>\n",
       "    </tr>\n",
       "    <tr>\n",
       "      <th>33391</th>\n",
       "      <td>2,810</td>\n",
       "      <td>They treated me very badly.</td>\n",
       "      <td>1</td>\n",
       "    </tr>\n",
       "    <tr>\n",
       "      <th>33392</th>\n",
       "      <td>2,810</td>\n",
       "      <td>The service is very good</td>\n",
       "      <td>5</td>\n",
       "    </tr>\n",
       "    <tr>\n",
       "      <th>33393</th>\n",
       "      <td>2,810</td>\n",
       "      <td>To remove hunger is enough</td>\n",
       "      <td>4</td>\n",
       "    </tr>\n",
       "    <tr>\n",
       "      <th>33394</th>\n",
       "      <td>2,810</td>\n",
       "      <td>It's good, but lately it has become very expen...</td>\n",
       "      <td>5</td>\n",
       "    </tr>\n",
       "    <tr>\n",
       "      <th>33395</th>\n",
       "      <td>2,810</td>\n",
       "      <td>they took good care of me</td>\n",
       "      <td>5</td>\n",
       "    </tr>\n",
       "  </tbody>\n",
       "</table>\n",
       "<p>33396 rows × 3 columns</p>\n",
       "</div>"
      ],
      "text/plain": [
       "      rating_count                                             review  rating\n",
       "0            1,240  Why does it look like someone spit on my food?...       1\n",
       "1            1,240  It'd McDonalds. It is what it is as far as the...       4\n",
       "2            1,240  Made a mobile order got to the speaker and che...       1\n",
       "3            1,240  My mc. Crispy chicken sandwich was ï¿½ï¿½ï¿½ï¿...       5\n",
       "4            1,240  I repeat my order 3 times in the drive thru, a...       1\n",
       "...            ...                                                ...     ...\n",
       "33391        2,810                        They treated me very badly.       1\n",
       "33392        2,810                           The service is very good       5\n",
       "33393        2,810                         To remove hunger is enough       4\n",
       "33394        2,810  It's good, but lately it has become very expen...       5\n",
       "33395        2,810                          they took good care of me       5\n",
       "\n",
       "[33396 rows x 3 columns]"
      ]
     },
     "execution_count": 35,
     "metadata": {},
     "output_type": "execute_result"
    }
   ],
   "source": [
    "df = df.iloc[:,1:]\n",
    "df"
   ]
  },
  {
   "cell_type": "code",
   "execution_count": 36,
   "id": "da6db648",
   "metadata": {
    "execution": {
     "iopub.execute_input": "2023-08-27T05:07:12.889453Z",
     "iopub.status.busy": "2023-08-27T05:07:12.889079Z",
     "iopub.status.idle": "2023-08-27T05:07:12.995635Z",
     "shell.execute_reply": "2023-08-27T05:07:12.994652Z"
    },
    "papermill": {
     "duration": 0.119081,
     "end_time": "2023-08-27T05:07:12.998273",
     "exception": false,
     "start_time": "2023-08-27T05:07:12.879192",
     "status": "completed"
    },
    "tags": []
   },
   "outputs": [],
   "source": [
    "mask = df['review'].str.contains(r'^[a-zA-Z0-9\\s.,!?]*$', na=False, regex=True)\n",
    "df_clean_review = df[mask].copy()"
   ]
  },
  {
   "cell_type": "code",
   "execution_count": 37,
   "id": "5ccc9015",
   "metadata": {
    "execution": {
     "iopub.execute_input": "2023-08-27T05:07:13.018403Z",
     "iopub.status.busy": "2023-08-27T05:07:13.018045Z",
     "iopub.status.idle": "2023-08-27T05:07:13.030343Z",
     "shell.execute_reply": "2023-08-27T05:07:13.029313Z"
    },
    "papermill": {
     "duration": 0.025625,
     "end_time": "2023-08-27T05:07:13.032667",
     "exception": false,
     "start_time": "2023-08-27T05:07:13.007042",
     "status": "completed"
    },
    "tags": []
   },
   "outputs": [
    {
     "data": {
      "text/html": [
       "<div>\n",
       "<style scoped>\n",
       "    .dataframe tbody tr th:only-of-type {\n",
       "        vertical-align: middle;\n",
       "    }\n",
       "\n",
       "    .dataframe tbody tr th {\n",
       "        vertical-align: top;\n",
       "    }\n",
       "\n",
       "    .dataframe thead th {\n",
       "        text-align: right;\n",
       "    }\n",
       "</style>\n",
       "<table border=\"1\" class=\"dataframe\">\n",
       "  <thead>\n",
       "    <tr style=\"text-align: right;\">\n",
       "      <th></th>\n",
       "      <th>rating_count</th>\n",
       "      <th>review</th>\n",
       "      <th>rating</th>\n",
       "    </tr>\n",
       "  </thead>\n",
       "  <tbody>\n",
       "    <tr>\n",
       "      <th>4</th>\n",
       "      <td>1,240</td>\n",
       "      <td>I repeat my order 3 times in the drive thru, a...</td>\n",
       "      <td>1</td>\n",
       "    </tr>\n",
       "    <tr>\n",
       "      <th>8</th>\n",
       "      <td>1,240</td>\n",
       "      <td>Went thru drive thru. Ordered. Getting home no...</td>\n",
       "      <td>1</td>\n",
       "    </tr>\n",
       "    <tr>\n",
       "      <th>11</th>\n",
       "      <td>1,240</td>\n",
       "      <td>We stopped by for a quick breakfast.  It was n...</td>\n",
       "      <td>2</td>\n",
       "    </tr>\n",
       "    <tr>\n",
       "      <th>14</th>\n",
       "      <td>1,240</td>\n",
       "      <td>Ordered food burger wrong and left out part of...</td>\n",
       "      <td>1</td>\n",
       "    </tr>\n",
       "    <tr>\n",
       "      <th>17</th>\n",
       "      <td>1,240</td>\n",
       "      <td>The boy who attended me made me wait and when ...</td>\n",
       "      <td>1</td>\n",
       "    </tr>\n",
       "    <tr>\n",
       "      <th>...</th>\n",
       "      <td>...</td>\n",
       "      <td>...</td>\n",
       "      <td>...</td>\n",
       "    </tr>\n",
       "    <tr>\n",
       "      <th>33390</th>\n",
       "      <td>2,810</td>\n",
       "      <td>Very. Well</td>\n",
       "      <td>5</td>\n",
       "    </tr>\n",
       "    <tr>\n",
       "      <th>33391</th>\n",
       "      <td>2,810</td>\n",
       "      <td>They treated me very badly.</td>\n",
       "      <td>1</td>\n",
       "    </tr>\n",
       "    <tr>\n",
       "      <th>33392</th>\n",
       "      <td>2,810</td>\n",
       "      <td>The service is very good</td>\n",
       "      <td>5</td>\n",
       "    </tr>\n",
       "    <tr>\n",
       "      <th>33393</th>\n",
       "      <td>2,810</td>\n",
       "      <td>To remove hunger is enough</td>\n",
       "      <td>4</td>\n",
       "    </tr>\n",
       "    <tr>\n",
       "      <th>33395</th>\n",
       "      <td>2,810</td>\n",
       "      <td>they took good care of me</td>\n",
       "      <td>5</td>\n",
       "    </tr>\n",
       "  </tbody>\n",
       "</table>\n",
       "<p>20557 rows × 3 columns</p>\n",
       "</div>"
      ],
      "text/plain": [
       "      rating_count                                             review  rating\n",
       "4            1,240  I repeat my order 3 times in the drive thru, a...       1\n",
       "8            1,240  Went thru drive thru. Ordered. Getting home no...       1\n",
       "11           1,240  We stopped by for a quick breakfast.  It was n...       2\n",
       "14           1,240  Ordered food burger wrong and left out part of...       1\n",
       "17           1,240  The boy who attended me made me wait and when ...       1\n",
       "...            ...                                                ...     ...\n",
       "33390        2,810                                         Very. Well       5\n",
       "33391        2,810                        They treated me very badly.       1\n",
       "33392        2,810                           The service is very good       5\n",
       "33393        2,810                         To remove hunger is enough       4\n",
       "33395        2,810                          they took good care of me       5\n",
       "\n",
       "[20557 rows x 3 columns]"
      ]
     },
     "execution_count": 37,
     "metadata": {},
     "output_type": "execute_result"
    }
   ],
   "source": [
    "df_clean_review"
   ]
  },
  {
   "cell_type": "code",
   "execution_count": 38,
   "id": "b1ddaac8",
   "metadata": {
    "execution": {
     "iopub.execute_input": "2023-08-27T05:07:13.052304Z",
     "iopub.status.busy": "2023-08-27T05:07:13.051521Z",
     "iopub.status.idle": "2023-08-27T05:07:13.084571Z",
     "shell.execute_reply": "2023-08-27T05:07:13.083685Z"
    },
    "papermill": {
     "duration": 0.045348,
     "end_time": "2023-08-27T05:07:13.086834",
     "exception": false,
     "start_time": "2023-08-27T05:07:13.041486",
     "status": "completed"
    },
    "tags": []
   },
   "outputs": [
    {
     "data": {
      "text/html": [
       "<div>\n",
       "<style scoped>\n",
       "    .dataframe tbody tr th:only-of-type {\n",
       "        vertical-align: middle;\n",
       "    }\n",
       "\n",
       "    .dataframe tbody tr th {\n",
       "        vertical-align: top;\n",
       "    }\n",
       "\n",
       "    .dataframe thead th {\n",
       "        text-align: right;\n",
       "    }\n",
       "</style>\n",
       "<table border=\"1\" class=\"dataframe\">\n",
       "  <thead>\n",
       "    <tr style=\"text-align: right;\">\n",
       "      <th></th>\n",
       "      <th>rating_count</th>\n",
       "      <th>review</th>\n",
       "      <th>rating</th>\n",
       "    </tr>\n",
       "  </thead>\n",
       "  <tbody>\n",
       "    <tr>\n",
       "      <th>4</th>\n",
       "      <td>1240</td>\n",
       "      <td>I repeat my order 3 times in the drive thru, a...</td>\n",
       "      <td>1</td>\n",
       "    </tr>\n",
       "    <tr>\n",
       "      <th>8</th>\n",
       "      <td>1240</td>\n",
       "      <td>Went thru drive thru. Ordered. Getting home no...</td>\n",
       "      <td>1</td>\n",
       "    </tr>\n",
       "    <tr>\n",
       "      <th>11</th>\n",
       "      <td>1240</td>\n",
       "      <td>We stopped by for a quick breakfast.  It was n...</td>\n",
       "      <td>2</td>\n",
       "    </tr>\n",
       "    <tr>\n",
       "      <th>14</th>\n",
       "      <td>1240</td>\n",
       "      <td>Ordered food burger wrong and left out part of...</td>\n",
       "      <td>1</td>\n",
       "    </tr>\n",
       "    <tr>\n",
       "      <th>17</th>\n",
       "      <td>1240</td>\n",
       "      <td>The boy who attended me made me wait and when ...</td>\n",
       "      <td>1</td>\n",
       "    </tr>\n",
       "    <tr>\n",
       "      <th>...</th>\n",
       "      <td>...</td>\n",
       "      <td>...</td>\n",
       "      <td>...</td>\n",
       "    </tr>\n",
       "    <tr>\n",
       "      <th>33390</th>\n",
       "      <td>2810</td>\n",
       "      <td>Very. Well</td>\n",
       "      <td>5</td>\n",
       "    </tr>\n",
       "    <tr>\n",
       "      <th>33391</th>\n",
       "      <td>2810</td>\n",
       "      <td>They treated me very badly.</td>\n",
       "      <td>1</td>\n",
       "    </tr>\n",
       "    <tr>\n",
       "      <th>33392</th>\n",
       "      <td>2810</td>\n",
       "      <td>The service is very good</td>\n",
       "      <td>5</td>\n",
       "    </tr>\n",
       "    <tr>\n",
       "      <th>33393</th>\n",
       "      <td>2810</td>\n",
       "      <td>To remove hunger is enough</td>\n",
       "      <td>4</td>\n",
       "    </tr>\n",
       "    <tr>\n",
       "      <th>33395</th>\n",
       "      <td>2810</td>\n",
       "      <td>they took good care of me</td>\n",
       "      <td>5</td>\n",
       "    </tr>\n",
       "  </tbody>\n",
       "</table>\n",
       "<p>20557 rows × 3 columns</p>\n",
       "</div>"
      ],
      "text/plain": [
       "       rating_count                                             review  rating\n",
       "4              1240  I repeat my order 3 times in the drive thru, a...       1\n",
       "8              1240  Went thru drive thru. Ordered. Getting home no...       1\n",
       "11             1240  We stopped by for a quick breakfast.  It was n...       2\n",
       "14             1240  Ordered food burger wrong and left out part of...       1\n",
       "17             1240  The boy who attended me made me wait and when ...       1\n",
       "...             ...                                                ...     ...\n",
       "33390          2810                                         Very. Well       5\n",
       "33391          2810                        They treated me very badly.       1\n",
       "33392          2810                           The service is very good       5\n",
       "33393          2810                         To remove hunger is enough       4\n",
       "33395          2810                          they took good care of me       5\n",
       "\n",
       "[20557 rows x 3 columns]"
      ]
     },
     "execution_count": 38,
     "metadata": {},
     "output_type": "execute_result"
    }
   ],
   "source": [
    "df_clean_review.rating_count = df_clean_review.rating_count.str.replace(\",\", \"\").astype(int)\n",
    "df_clean_review"
   ]
  },
  {
   "cell_type": "code",
   "execution_count": 39,
   "id": "21370206",
   "metadata": {
    "execution": {
     "iopub.execute_input": "2023-08-27T05:07:13.106735Z",
     "iopub.status.busy": "2023-08-27T05:07:13.106367Z",
     "iopub.status.idle": "2023-08-27T05:07:13.128618Z",
     "shell.execute_reply": "2023-08-27T05:07:13.127749Z"
    },
    "papermill": {
     "duration": 0.03497,
     "end_time": "2023-08-27T05:07:13.131067",
     "exception": false,
     "start_time": "2023-08-27T05:07:13.096097",
     "status": "completed"
    },
    "tags": []
   },
   "outputs": [
    {
     "data": {
      "text/html": [
       "<div>\n",
       "<style scoped>\n",
       "    .dataframe tbody tr th:only-of-type {\n",
       "        vertical-align: middle;\n",
       "    }\n",
       "\n",
       "    .dataframe tbody tr th {\n",
       "        vertical-align: top;\n",
       "    }\n",
       "\n",
       "    .dataframe thead th {\n",
       "        text-align: right;\n",
       "    }\n",
       "</style>\n",
       "<table border=\"1\" class=\"dataframe\">\n",
       "  <thead>\n",
       "    <tr style=\"text-align: right;\">\n",
       "      <th></th>\n",
       "      <th>rating_count</th>\n",
       "      <th>rating</th>\n",
       "    </tr>\n",
       "  </thead>\n",
       "  <tbody>\n",
       "    <tr>\n",
       "      <th>count</th>\n",
       "      <td>20557.000000</td>\n",
       "      <td>20557.000000</td>\n",
       "    </tr>\n",
       "    <tr>\n",
       "      <th>mean</th>\n",
       "      <td>2151.169285</td>\n",
       "      <td>3.434694</td>\n",
       "    </tr>\n",
       "    <tr>\n",
       "      <th>std</th>\n",
       "      <td>1663.993848</td>\n",
       "      <td>1.540742</td>\n",
       "    </tr>\n",
       "    <tr>\n",
       "      <th>min</th>\n",
       "      <td>263.000000</td>\n",
       "      <td>1.000000</td>\n",
       "    </tr>\n",
       "    <tr>\n",
       "      <th>25%</th>\n",
       "      <td>1269.000000</td>\n",
       "      <td>2.000000</td>\n",
       "    </tr>\n",
       "    <tr>\n",
       "      <th>50%</th>\n",
       "      <td>1670.000000</td>\n",
       "      <td>4.000000</td>\n",
       "    </tr>\n",
       "    <tr>\n",
       "      <th>75%</th>\n",
       "      <td>2657.000000</td>\n",
       "      <td>5.000000</td>\n",
       "    </tr>\n",
       "    <tr>\n",
       "      <th>max</th>\n",
       "      <td>19682.000000</td>\n",
       "      <td>5.000000</td>\n",
       "    </tr>\n",
       "  </tbody>\n",
       "</table>\n",
       "</div>"
      ],
      "text/plain": [
       "       rating_count        rating\n",
       "count  20557.000000  20557.000000\n",
       "mean    2151.169285      3.434694\n",
       "std     1663.993848      1.540742\n",
       "min      263.000000      1.000000\n",
       "25%     1269.000000      2.000000\n",
       "50%     1670.000000      4.000000\n",
       "75%     2657.000000      5.000000\n",
       "max    19682.000000      5.000000"
      ]
     },
     "execution_count": 39,
     "metadata": {},
     "output_type": "execute_result"
    }
   ],
   "source": [
    "df_clean_review.describe()"
   ]
  },
  {
   "cell_type": "code",
   "execution_count": 40,
   "id": "5f43a088",
   "metadata": {
    "execution": {
     "iopub.execute_input": "2023-08-27T05:07:13.151769Z",
     "iopub.status.busy": "2023-08-27T05:07:13.151365Z",
     "iopub.status.idle": "2023-08-27T05:07:15.091341Z",
     "shell.execute_reply": "2023-08-27T05:07:15.090241Z"
    },
    "papermill": {
     "duration": 1.953267,
     "end_time": "2023-08-27T05:07:15.093764",
     "exception": false,
     "start_time": "2023-08-27T05:07:13.140497",
     "status": "completed"
    },
    "tags": []
   },
   "outputs": [
    {
     "data": {
      "image/png": "[encoded data removed]",
      "text/plain": [
       "<Figure size 640x480 with 1 Axes>"
      ]
     },
     "metadata": {},
     "output_type": "display_data"
    }
   ],
   "source": [
    "import matplotlib.pyplot as plt\n",
    "import seaborn as sns\n",
    "\n",
    "# 使用條形圖顯示每個評分的評論數量\n",
    "sns.barplot(x='rating', y='rating_count', data=df_clean_review)\n",
    "plt.title('Review Counts for Each Score')\n",
    "plt.show()\n"
   ]
  },
  {
   "cell_type": "code",
   "execution_count": 41,
   "id": "841903f7",
   "metadata": {
    "execution": {
     "iopub.execute_input": "2023-08-27T05:07:15.115064Z",
     "iopub.status.busy": "2023-08-27T05:07:15.114635Z",
     "iopub.status.idle": "2023-08-27T05:07:15.121398Z",
     "shell.execute_reply": "2023-08-27T05:07:15.120349Z"
    },
    "papermill": {
     "duration": 0.019824,
     "end_time": "2023-08-27T05:07:15.123370",
     "exception": false,
     "start_time": "2023-08-27T05:07:15.103546",
     "status": "completed"
    },
    "tags": []
   },
   "outputs": [
    {
     "name": "stdout",
     "output_type": "stream",
     "text": [
      "The correlation between review counts and review score is: -0.10\n"
     ]
    }
   ],
   "source": [
    "correlation = df_clean_review['rating_count'].corr(df_clean_review['rating'])\n",
    "print(f\"The correlation between review counts and review score is: {correlation:.2f}\")"
   ]
  },
  {
   "cell_type": "code",
   "execution_count": 67,
   "id": "44e54f29",
   "metadata": {},
   "outputs": [
    {
     "data": {
      "image/png": "[encoded data removed]",
      "text/plain": [
       "<Figure size 800x600 with 1 Axes>"
      ]
     },
     "metadata": {},
     "output_type": "display_data"
    }
   ],
   "source": [
    "plt.figure(figsize=(8, 6))\n",
    "df_clean_review['rating'].value_counts().sort_index().plot(kind='bar')\n",
    "plt.title('Distribution of Ratings')\n",
    "plt.xlabel('Rating')\n",
    "plt.ylabel('Count')\n",
    "plt.xticks(rotation=0)\n",
    "plt.show()"
   ]
  },
  {
   "cell_type": "code",
   "execution_count": 42,
   "id": "af0c2186",
   "metadata": {
    "execution": {
     "iopub.execute_input": "2023-08-27T05:07:15.145025Z",
     "iopub.status.busy": "2023-08-27T05:07:15.144636Z",
     "iopub.status.idle": "2023-08-27T05:07:15.157945Z",
     "shell.execute_reply": "2023-08-27T05:07:15.156864Z"
    },
    "papermill": {
     "duration": 0.026769,
     "end_time": "2023-08-27T05:07:15.160087",
     "exception": false,
     "start_time": "2023-08-27T05:07:15.133318",
     "status": "completed"
    },
    "tags": []
   },
   "outputs": [
    {
     "data": {
      "text/html": [
       "<div>\n",
       "<style scoped>\n",
       "    .dataframe tbody tr th:only-of-type {\n",
       "        vertical-align: middle;\n",
       "    }\n",
       "\n",
       "    .dataframe tbody tr th {\n",
       "        vertical-align: top;\n",
       "    }\n",
       "\n",
       "    .dataframe thead th {\n",
       "        text-align: right;\n",
       "    }\n",
       "</style>\n",
       "<table border=\"1\" class=\"dataframe\">\n",
       "  <thead>\n",
       "    <tr style=\"text-align: right;\">\n",
       "      <th></th>\n",
       "      <th>review</th>\n",
       "      <th>rating</th>\n",
       "    </tr>\n",
       "  </thead>\n",
       "  <tbody>\n",
       "    <tr>\n",
       "      <th>4</th>\n",
       "      <td>I repeat my order 3 times in the drive thru, a...</td>\n",
       "      <td>1</td>\n",
       "    </tr>\n",
       "    <tr>\n",
       "      <th>8</th>\n",
       "      <td>Went thru drive thru. Ordered. Getting home no...</td>\n",
       "      <td>1</td>\n",
       "    </tr>\n",
       "    <tr>\n",
       "      <th>11</th>\n",
       "      <td>We stopped by for a quick breakfast.  It was n...</td>\n",
       "      <td>2</td>\n",
       "    </tr>\n",
       "    <tr>\n",
       "      <th>14</th>\n",
       "      <td>Ordered food burger wrong and left out part of...</td>\n",
       "      <td>1</td>\n",
       "    </tr>\n",
       "    <tr>\n",
       "      <th>17</th>\n",
       "      <td>The boy who attended me made me wait and when ...</td>\n",
       "      <td>1</td>\n",
       "    </tr>\n",
       "    <tr>\n",
       "      <th>...</th>\n",
       "      <td>...</td>\n",
       "      <td>...</td>\n",
       "    </tr>\n",
       "    <tr>\n",
       "      <th>33390</th>\n",
       "      <td>Very. Well</td>\n",
       "      <td>5</td>\n",
       "    </tr>\n",
       "    <tr>\n",
       "      <th>33391</th>\n",
       "      <td>They treated me very badly.</td>\n",
       "      <td>1</td>\n",
       "    </tr>\n",
       "    <tr>\n",
       "      <th>33392</th>\n",
       "      <td>The service is very good</td>\n",
       "      <td>5</td>\n",
       "    </tr>\n",
       "    <tr>\n",
       "      <th>33393</th>\n",
       "      <td>To remove hunger is enough</td>\n",
       "      <td>4</td>\n",
       "    </tr>\n",
       "    <tr>\n",
       "      <th>33395</th>\n",
       "      <td>they took good care of me</td>\n",
       "      <td>5</td>\n",
       "    </tr>\n",
       "  </tbody>\n",
       "</table>\n",
       "<p>20557 rows × 2 columns</p>\n",
       "</div>"
      ],
      "text/plain": [
       "                                                  review  rating\n",
       "4      I repeat my order 3 times in the drive thru, a...       1\n",
       "8      Went thru drive thru. Ordered. Getting home no...       1\n",
       "11     We stopped by for a quick breakfast.  It was n...       2\n",
       "14     Ordered food burger wrong and left out part of...       1\n",
       "17     The boy who attended me made me wait and when ...       1\n",
       "...                                                  ...     ...\n",
       "33390                                         Very. Well       5\n",
       "33391                        They treated me very badly.       1\n",
       "33392                           The service is very good       5\n",
       "33393                         To remove hunger is enough       4\n",
       "33395                          they took good care of me       5\n",
       "\n",
       "[20557 rows x 2 columns]"
      ]
     },
     "execution_count": 42,
     "metadata": {},
     "output_type": "execute_result"
    }
   ],
   "source": [
    "df_clean_review = df_clean_review.iloc[:, 1:]\n",
    "df_clean_review"
   ]
  },
  {
   "cell_type": "code",
   "execution_count": 43,
   "id": "9e137881",
   "metadata": {
    "execution": {
     "iopub.execute_input": "2023-08-27T05:07:15.184530Z",
     "iopub.status.busy": "2023-08-27T05:07:15.183734Z",
     "iopub.status.idle": "2023-08-27T05:07:15.205792Z",
     "shell.execute_reply": "2023-08-27T05:07:15.204656Z"
    },
    "papermill": {
     "duration": 0.036344,
     "end_time": "2023-08-27T05:07:15.208054",
     "exception": false,
     "start_time": "2023-08-27T05:07:15.171710",
     "status": "completed"
    },
    "tags": []
   },
   "outputs": [
    {
     "data": {
      "text/plain": [
       "1521"
      ]
     },
     "execution_count": 43,
     "metadata": {},
     "output_type": "execute_result"
    }
   ],
   "source": [
    "df_clean_review['review'].str.len().max()"
   ]
  },
  {
   "cell_type": "code",
   "execution_count": 44,
   "id": "5134b2a1",
   "metadata": {
    "execution": {
     "iopub.execute_input": "2023-08-27T05:07:15.230471Z",
     "iopub.status.busy": "2023-08-27T05:07:15.230108Z",
     "iopub.status.idle": "2023-08-27T05:07:15.252192Z",
     "shell.execute_reply": "2023-08-27T05:07:15.251154Z"
    },
    "papermill": {
     "duration": 0.036078,
     "end_time": "2023-08-27T05:07:15.254514",
     "exception": false,
     "start_time": "2023-08-27T05:07:15.218436",
     "status": "completed"
    },
    "tags": []
   },
   "outputs": [
    {
     "data": {
      "text/plain": [
       "1"
      ]
     },
     "execution_count": 44,
     "metadata": {},
     "output_type": "execute_result"
    }
   ],
   "source": [
    "df_clean_review['review'].str.len().min()"
   ]
  },
  {
   "cell_type": "code",
   "execution_count": 48,
   "id": "62bcda47",
   "metadata": {},
   "outputs": [
    {
     "data": {
      "text/plain": [
       "True"
      ]
     },
     "execution_count": 48,
     "metadata": {},
     "output_type": "execute_result"
    }
   ],
   "source": [
    "import torch\n",
    "\n",
    "\n",
    "torch.cuda.is_available()"
   ]
  },
  {
   "cell_type": "markdown",
   "id": "600d9797",
   "metadata": {},
   "source": [
    "## TF-IDF"
   ]
  },
  {
   "cell_type": "code",
   "execution_count": 80,
   "id": "d916ea5c",
   "metadata": {
    "papermill": {
     "duration": null,
     "end_time": null,
     "exception": null,
     "start_time": null,
     "status": "pending"
    },
    "tags": []
   },
   "outputs": [],
   "source": [
    "from sklearn.feature_extraction.text import TfidfVectorizer\n",
    "\n",
    "\n",
    "texts = df_clean_review['review'].values\n",
    "labels = df_clean_review['rating'].values\n",
    "\n",
    "# 使用 TF-IDF 將文本轉換為詞向量\n",
    "vectorizer = TfidfVectorizer(max_features=1000)  # 只考慮最常見的 1000 個詞\n",
    "X_tfidf = vectorizer.fit_transform(texts).toarray()"
   ]
  },
  {
   "cell_type": "markdown",
   "id": "4261affd",
   "metadata": {},
   "source": [
    "## Sentence Enbedding by Unervisal Sentence Encoder"
   ]
  },
  {
   "cell_type": "code",
   "execution_count": 62,
   "id": "c65dd611",
   "metadata": {},
   "outputs": [
    {
     "name": "stderr",
     "output_type": "stream",
     "text": [
      "2023-08-27 09:04:57.117921: I tensorflow/compiler/xla/stream_executor/cuda/cuda_gpu_executor.cc:995] successful NUMA node read from SysFS had negative value (-1), but there must be at least one NUMA node, so returning NUMA node zero. See more at https://github.com/torvalds/linux/blob/v6.0/Documentation/ABI/testing/sysfs-bus-pci#L344-L355\n",
      "2023-08-27 09:04:57.138058: I tensorflow/compiler/xla/stream_executor/cuda/cuda_gpu_executor.cc:995] successful NUMA node read from SysFS had negative value (-1), but there must be at least one NUMA node, so returning NUMA node zero. See more at https://github.com/torvalds/linux/blob/v6.0/Documentation/ABI/testing/sysfs-bus-pci#L344-L355\n",
      "2023-08-27 09:04:57.138381: I tensorflow/compiler/xla/stream_executor/cuda/cuda_gpu_executor.cc:995] successful NUMA node read from SysFS had negative value (-1), but there must be at least one NUMA node, so returning NUMA node zero. See more at https://github.com/torvalds/linux/blob/v6.0/Documentation/ABI/testing/sysfs-bus-pci#L344-L355\n",
      "2023-08-27 09:04:57.139258: I tensorflow/compiler/xla/stream_executor/cuda/cuda_gpu_executor.cc:995] successful NUMA node read from SysFS had negative value (-1), but there must be at least one NUMA node, so returning NUMA node zero. See more at https://github.com/torvalds/linux/blob/v6.0/Documentation/ABI/testing/sysfs-bus-pci#L344-L355\n",
      "2023-08-27 09:04:57.139573: I tensorflow/compiler/xla/stream_executor/cuda/cuda_gpu_executor.cc:995] successful NUMA node read from SysFS had negative value (-1), but there must be at least one NUMA node, so returning NUMA node zero. See more at https://github.com/torvalds/linux/blob/v6.0/Documentation/ABI/testing/sysfs-bus-pci#L344-L355\n",
      "2023-08-27 09:04:57.139885: I tensorflow/compiler/xla/stream_executor/cuda/cuda_gpu_executor.cc:995] successful NUMA node read from SysFS had negative value (-1), but there must be at least one NUMA node, so returning NUMA node zero. See more at https://github.com/torvalds/linux/blob/v6.0/Documentation/ABI/testing/sysfs-bus-pci#L344-L355\n",
      "2023-08-27 09:04:59.083183: I tensorflow/compiler/xla/stream_executor/cuda/cuda_gpu_executor.cc:995] successful NUMA node read from SysFS had negative value (-1), but there must be at least one NUMA node, so returning NUMA node zero. See more at https://github.com/torvalds/linux/blob/v6.0/Documentation/ABI/testing/sysfs-bus-pci#L344-L355\n",
      "2023-08-27 09:04:59.083430: I tensorflow/compiler/xla/stream_executor/cuda/cuda_gpu_executor.cc:995] successful NUMA node read from SysFS had negative value (-1), but there must be at least one NUMA node, so returning NUMA node zero. See more at https://github.com/torvalds/linux/blob/v6.0/Documentation/ABI/testing/sysfs-bus-pci#L344-L355\n",
      "2023-08-27 09:04:59.083627: I tensorflow/compiler/xla/stream_executor/cuda/cuda_gpu_executor.cc:995] successful NUMA node read from SysFS had negative value (-1), but there must be at least one NUMA node, so returning NUMA node zero. See more at https://github.com/torvalds/linux/blob/v6.0/Documentation/ABI/testing/sysfs-bus-pci#L344-L355\n",
      "2023-08-27 09:04:59.083803: I tensorflow/core/common_runtime/gpu/gpu_device.cc:1639] Created device /job:localhost/replica:0/task:0/device:GPU:0 with 6606 MB memory:  -> device: 0, name: Tesla M60, pci bus id: 0000:00:1e.0, compute capability: 5.2\n"
     ]
    },
    {
     "name": "stdout",
     "output_type": "stream",
     "text": [
      "[[-0.02607429 -0.08460002 -0.02678663 ... -0.02173569  0.01262517\n",
      "  -0.06147427]\n",
      " [ 0.02515168 -0.07437912 -0.06549311 ...  0.03154588 -0.06022625\n",
      "  -0.04974781]]\n"
     ]
    }
   ],
   "source": [
    "import tensorflow as tf\n",
    "import tensorflow_hub as hub\n",
    "\n",
    "# 載入 Universal Sentence Encoder\n",
    "embed = hub.load(\"https://tfhub.dev/google/universal-sentence-encoder/4\")\n",
    "\n",
    "# 定義句子\n",
    "sentences = [\"Hello world!\", \"Machine learning is amazing.\"]\n",
    "\n",
    "# 獲取句子的嵌入向量\n",
    "embeddings = embed(sentences)\n",
    "\n",
    "# 輸出嵌入向量\n",
    "print(embeddings.numpy())\n"
   ]
  },
  {
   "cell_type": "code",
   "execution_count": 69,
   "id": "56235947",
   "metadata": {},
   "outputs": [
    {
     "data": {
      "text/plain": [
       "<tf.Tensor: shape=(20557, 512), dtype=float32, numpy=\n",
       "array([[-0.03896873, -0.05757991,  0.03887402, ..., -0.02068068,\n",
       "        -0.02049108, -0.05794618],\n",
       "       [-0.05720881,  0.00016748,  0.06414355, ..., -0.02774875,\n",
       "         0.00115145, -0.04035529],\n",
       "       [-0.07209262, -0.03343599,  0.02320654, ..., -0.02309969,\n",
       "         0.00021173, -0.03600383],\n",
       "       ...,\n",
       "       [-0.05569964, -0.06883989, -0.03038383, ..., -0.04151542,\n",
       "         0.00939179, -0.01089852],\n",
       "       [-0.0052366 , -0.05151204,  0.05803277, ...,  0.02712451,\n",
       "         0.05742805, -0.05505144],\n",
       "       [-0.06113055, -0.02793701, -0.00027733, ..., -0.01626449,\n",
       "         0.00686804, -0.06218162]], dtype=float32)>"
      ]
     },
     "execution_count": 69,
     "metadata": {},
     "output_type": "execute_result"
    }
   ],
   "source": [
    "X = embed(df_clean_review.review)\n",
    "X"
   ]
  },
  {
   "cell_type": "code",
   "execution_count": 72,
   "id": "494fbb47",
   "metadata": {},
   "outputs": [
    {
     "data": {
      "text/plain": [
       "4        1\n",
       "8        1\n",
       "11       2\n",
       "14       1\n",
       "17       1\n",
       "        ..\n",
       "33390    5\n",
       "33391    1\n",
       "33392    5\n",
       "33393    4\n",
       "33395    5\n",
       "Name: rating, Length: 20557, dtype: int64"
      ]
     },
     "execution_count": 72,
     "metadata": {},
     "output_type": "execute_result"
    }
   ],
   "source": [
    "y = df_clean_review.rating\n",
    "y"
   ]
  },
  {
   "cell_type": "markdown",
   "id": "b68350c4",
   "metadata": {
    "papermill": {
     "duration": null,
     "end_time": null,
     "exception": null,
     "start_time": null,
     "status": "pending"
    },
    "tags": []
   },
   "source": [
    "# Data Preparation and Vetorize method comparison"
   ]
  },
  {
   "cell_type": "code",
   "execution_count": 79,
   "id": "1b8f6690",
   "metadata": {},
   "outputs": [],
   "source": [
    "import xgboost as xgb\n",
    "from sklearn.feature_extraction.text import TfidfVectorizer\n",
    "from sklearn.model_selection import train_test_split\n",
    "from sklearn.metrics import accuracy_score\n",
    "\n",
    "# 設定 XGBoost 參數\n",
    "param = {\n",
    "    'booster': 'gblinear',  # 使用線性模型\n",
    "    'objective': 'multi:softmax',  # 多分類問題\n",
    "    'num_class': 6,  # 類別數量，假設為 1 到 5，所以設為 6\n",
    "    'eval_metric': 'mlogloss'\n",
    "}"
   ]
  },
  {
   "cell_type": "markdown",
   "id": "2ede27b9",
   "metadata": {},
   "source": [
    "## TF-IDF"
   ]
  },
  {
   "cell_type": "code",
   "execution_count": 81,
   "id": "1875c52e",
   "metadata": {},
   "outputs": [
    {
     "data": {
      "text/plain": [
       "((16445, 1000), (4112, 1000), (16445,), (4112,))"
      ]
     },
     "execution_count": 81,
     "metadata": {},
     "output_type": "execute_result"
    }
   ],
   "source": [
    "# 將數據分為訓練集和測試集\n",
    "X_train, X_test, y_train, y_test = train_test_split(X_tfidf, labels, test_size=0.2, random_state=42)\n",
    "X_train.shape, X_test.shape, y_train.shape, y_test.shape"
   ]
  },
  {
   "cell_type": "code",
   "execution_count": 82,
   "id": "083da3e5",
   "metadata": {},
   "outputs": [],
   "source": [
    "# 轉換數據為 DMatrix 格式\n",
    "dtrain = xgb.DMatrix(X_train, label=y_train)\n",
    "dtest = xgb.DMatrix(X_test, label=y_test)"
   ]
  },
  {
   "cell_type": "code",
   "execution_count": 87,
   "id": "bafb4034",
   "metadata": {},
   "outputs": [
    {
     "name": "stdout",
     "output_type": "stream",
     "text": [
      "[0]\ttest-mlogloss:1.10183\n",
      "[1]\ttest-mlogloss:0.96554\n",
      "[2]\ttest-mlogloss:0.90662\n",
      "[3]\ttest-mlogloss:0.88139\n",
      "[4]\ttest-mlogloss:0.87327\n",
      "[5]\ttest-mlogloss:0.87454\n",
      "[6]\ttest-mlogloss:0.88121\n",
      "[7]\ttest-mlogloss:0.89111\n",
      "[8]\ttest-mlogloss:0.90300\n",
      "[9]\ttest-mlogloss:0.91612\n",
      "[10]\ttest-mlogloss:0.93002\n",
      "[11]\ttest-mlogloss:0.94443\n",
      "[12]\ttest-mlogloss:0.95916\n",
      "[13]\ttest-mlogloss:0.97410\n",
      "[14]\ttest-mlogloss:0.98916\n",
      "[15]\ttest-mlogloss:1.00429\n",
      "[16]\ttest-mlogloss:1.01945\n",
      "[17]\ttest-mlogloss:1.03460\n",
      "[18]\ttest-mlogloss:1.04974\n",
      "[19]\ttest-mlogloss:1.06484\n",
      "[20]\ttest-mlogloss:1.07989\n",
      "[21]\ttest-mlogloss:1.09490\n",
      "[22]\ttest-mlogloss:1.10986\n",
      "[23]\ttest-mlogloss:1.12477\n",
      "[24]\ttest-mlogloss:1.13963\n",
      "[25]\ttest-mlogloss:1.15444\n",
      "[26]\ttest-mlogloss:1.16920\n",
      "[27]\ttest-mlogloss:1.18373\n",
      "[28]\ttest-mlogloss:1.19776\n",
      "[29]\ttest-mlogloss:1.21165\n",
      "[30]\ttest-mlogloss:1.22544\n",
      "[31]\ttest-mlogloss:1.23921\n",
      "[32]\ttest-mlogloss:1.25244\n",
      "[33]\ttest-mlogloss:1.26545\n",
      "[34]\ttest-mlogloss:1.27829\n",
      "[35]\ttest-mlogloss:1.29093\n",
      "[36]\ttest-mlogloss:1.30265\n",
      "[37]\ttest-mlogloss:1.31389\n",
      "[38]\ttest-mlogloss:1.32507\n",
      "[39]\ttest-mlogloss:1.33580\n",
      "[40]\ttest-mlogloss:1.34596\n",
      "[41]\ttest-mlogloss:1.35535\n",
      "[42]\ttest-mlogloss:1.36453\n",
      "[43]\ttest-mlogloss:1.37280\n",
      "[44]\ttest-mlogloss:1.37983\n",
      "[45]\ttest-mlogloss:1.38465\n",
      "[46]\ttest-mlogloss:1.38831\n",
      "[47]\ttest-mlogloss:1.39108\n",
      "[48]\ttest-mlogloss:1.39404\n",
      "[49]\ttest-mlogloss:1.39615\n",
      "[50]\ttest-mlogloss:1.39815\n",
      "[51]\ttest-mlogloss:1.40051\n",
      "[52]\ttest-mlogloss:1.40213\n",
      "[53]\ttest-mlogloss:1.40337\n",
      "[54]\ttest-mlogloss:1.40470\n",
      "[55]\ttest-mlogloss:1.40599\n",
      "[56]\ttest-mlogloss:1.40708\n",
      "[57]\ttest-mlogloss:1.40886\n",
      "[58]\ttest-mlogloss:1.40987\n",
      "[59]\ttest-mlogloss:1.41068\n",
      "[60]\ttest-mlogloss:1.41154\n",
      "[61]\ttest-mlogloss:1.41223\n",
      "[62]\ttest-mlogloss:1.41314\n",
      "[63]\ttest-mlogloss:1.41371\n",
      "[64]\ttest-mlogloss:1.41431\n",
      "[65]\ttest-mlogloss:1.41497\n",
      "[66]\ttest-mlogloss:1.41545\n",
      "[67]\ttest-mlogloss:1.41592\n",
      "[68]\ttest-mlogloss:1.41637\n",
      "[69]\ttest-mlogloss:1.41700\n",
      "[70]\ttest-mlogloss:1.41772\n",
      "[71]\ttest-mlogloss:1.41826\n",
      "[72]\ttest-mlogloss:1.41908\n",
      "[73]\ttest-mlogloss:1.41943\n",
      "[74]\ttest-mlogloss:1.41972\n",
      "[75]\ttest-mlogloss:1.42013\n",
      "[76]\ttest-mlogloss:1.42080\n",
      "[77]\ttest-mlogloss:1.42111\n",
      "[78]\ttest-mlogloss:1.42137\n",
      "[79]\ttest-mlogloss:1.42162\n",
      "[80]\ttest-mlogloss:1.42188\n",
      "[81]\ttest-mlogloss:1.42212\n",
      "[82]\ttest-mlogloss:1.42244\n",
      "[83]\ttest-mlogloss:1.42279\n",
      "[84]\ttest-mlogloss:1.42314\n",
      "[85]\ttest-mlogloss:1.42336\n",
      "[86]\ttest-mlogloss:1.42356\n",
      "[87]\ttest-mlogloss:1.42376\n",
      "[88]\ttest-mlogloss:1.42400\n",
      "[89]\ttest-mlogloss:1.42419\n",
      "[90]\ttest-mlogloss:1.42453\n",
      "[91]\ttest-mlogloss:1.42470\n",
      "[92]\ttest-mlogloss:1.42488\n",
      "[93]\ttest-mlogloss:1.42504\n",
      "[94]\ttest-mlogloss:1.42521\n",
      "[95]\ttest-mlogloss:1.42537\n",
      "[96]\ttest-mlogloss:1.42552\n",
      "[97]\ttest-mlogloss:1.42567\n",
      "[98]\ttest-mlogloss:1.42586\n",
      "[99]\ttest-mlogloss:1.42632\n"
     ]
    }
   ],
   "source": [
    "# 訓練模型\n",
    "num_round = 100\n",
    "bst = xgb.train(param, dtrain, num_round, evals=[(dtest, 'test')])"
   ]
  },
  {
   "cell_type": "code",
   "execution_count": 88,
   "id": "14f7535e",
   "metadata": {},
   "outputs": [
    {
     "name": "stdout",
     "output_type": "stream",
     "text": [
      "Accuracy: 0.6661\n"
     ]
    }
   ],
   "source": [
    "# 預測\n",
    "y_pred = bst.predict(dtest)\n",
    "accuracy = accuracy_score(y_test, y_pred)\n",
    "print(f\"Accuracy: {accuracy:.4f}\")"
   ]
  },
  {
   "cell_type": "markdown",
   "id": "556bc6d0",
   "metadata": {},
   "source": [
    "## Universal Sentence Encoder"
   ]
  },
  {
   "cell_type": "code",
   "execution_count": 89,
   "id": "3a2df44a",
   "metadata": {},
   "outputs": [
    {
     "data": {
      "text/plain": [
       "((16445, 512), (4112, 512), (16445,), (4112,))"
      ]
     },
     "execution_count": 89,
     "metadata": {},
     "output_type": "execute_result"
    }
   ],
   "source": [
    "# 轉換為 NumPy 數組\n",
    "X_np = X.numpy()\n",
    "y_np = y.to_numpy()\n",
    "\n",
    "# 將數據分為訓練集和測試集\n",
    "X_train, X_test, y_train, y_test = train_test_split(X_np, y_np, test_size=0.2, random_state=42)\n",
    "X_train.shape, X_test.shape, y_train.shape, y_test.shape"
   ]
  },
  {
   "cell_type": "code",
   "execution_count": 90,
   "id": "3107198e",
   "metadata": {},
   "outputs": [],
   "source": [
    "# 轉換數據為 DMatrix 格式\n",
    "dtrain = xgb.DMatrix(X_train, label=y_train)\n",
    "dtest = xgb.DMatrix(X_test, label=y_test)"
   ]
  },
  {
   "cell_type": "code",
   "execution_count": 91,
   "id": "f0fec3c0",
   "metadata": {},
   "outputs": [
    {
     "name": "stdout",
     "output_type": "stream",
     "text": [
      "[0]\ttest-mlogloss:0.99076\n",
      "[1]\ttest-mlogloss:0.89765\n",
      "[2]\ttest-mlogloss:0.86086\n",
      "[3]\ttest-mlogloss:0.84392\n",
      "[4]\ttest-mlogloss:0.83534\n",
      "[5]\ttest-mlogloss:0.83089\n",
      "[6]\ttest-mlogloss:0.82842\n",
      "[7]\ttest-mlogloss:0.82707\n",
      "[8]\ttest-mlogloss:0.82634\n",
      "[9]\ttest-mlogloss:0.82594\n",
      "[10]\ttest-mlogloss:0.82575\n",
      "[11]\ttest-mlogloss:0.82572\n",
      "[12]\ttest-mlogloss:0.82577\n",
      "[13]\ttest-mlogloss:0.82588\n",
      "[14]\ttest-mlogloss:0.82602\n",
      "[15]\ttest-mlogloss:0.82618\n",
      "[16]\ttest-mlogloss:0.82639\n",
      "[17]\ttest-mlogloss:0.82659\n",
      "[18]\ttest-mlogloss:0.82680\n",
      "[19]\ttest-mlogloss:0.82702\n",
      "[20]\ttest-mlogloss:0.82726\n",
      "[21]\ttest-mlogloss:0.82749\n",
      "[22]\ttest-mlogloss:0.82772\n",
      "[23]\ttest-mlogloss:0.82795\n",
      "[24]\ttest-mlogloss:0.82820\n",
      "[25]\ttest-mlogloss:0.82844\n",
      "[26]\ttest-mlogloss:0.82867\n",
      "[27]\ttest-mlogloss:0.82893\n",
      "[28]\ttest-mlogloss:0.82918\n",
      "[29]\ttest-mlogloss:0.82942\n",
      "[30]\ttest-mlogloss:0.82966\n",
      "[31]\ttest-mlogloss:0.82989\n",
      "[32]\ttest-mlogloss:0.83013\n",
      "[33]\ttest-mlogloss:0.83036\n",
      "[34]\ttest-mlogloss:0.83059\n",
      "[35]\ttest-mlogloss:0.83082\n",
      "[36]\ttest-mlogloss:0.83104\n",
      "[37]\ttest-mlogloss:0.83127\n",
      "[38]\ttest-mlogloss:0.83150\n",
      "[39]\ttest-mlogloss:0.83173\n",
      "[40]\ttest-mlogloss:0.83195\n",
      "[41]\ttest-mlogloss:0.83218\n",
      "[42]\ttest-mlogloss:0.83240\n",
      "[43]\ttest-mlogloss:0.83262\n",
      "[44]\ttest-mlogloss:0.83284\n",
      "[45]\ttest-mlogloss:0.83306\n",
      "[46]\ttest-mlogloss:0.83328\n",
      "[47]\ttest-mlogloss:0.83349\n",
      "[48]\ttest-mlogloss:0.83370\n",
      "[49]\ttest-mlogloss:0.83391\n",
      "[50]\ttest-mlogloss:0.83412\n",
      "[51]\ttest-mlogloss:0.83432\n",
      "[52]\ttest-mlogloss:0.83453\n",
      "[53]\ttest-mlogloss:0.83472\n",
      "[54]\ttest-mlogloss:0.83493\n",
      "[55]\ttest-mlogloss:0.83514\n",
      "[56]\ttest-mlogloss:0.83533\n",
      "[57]\ttest-mlogloss:0.83553\n",
      "[58]\ttest-mlogloss:0.83573\n",
      "[59]\ttest-mlogloss:0.83592\n",
      "[60]\ttest-mlogloss:0.83611\n",
      "[61]\ttest-mlogloss:0.83630\n",
      "[62]\ttest-mlogloss:0.83650\n",
      "[63]\ttest-mlogloss:0.83668\n",
      "[64]\ttest-mlogloss:0.83687\n",
      "[65]\ttest-mlogloss:0.83705\n",
      "[66]\ttest-mlogloss:0.83723\n",
      "[67]\ttest-mlogloss:0.83742\n",
      "[68]\ttest-mlogloss:0.83760\n",
      "[69]\ttest-mlogloss:0.83778\n",
      "[70]\ttest-mlogloss:0.83796\n",
      "[71]\ttest-mlogloss:0.83814\n",
      "[72]\ttest-mlogloss:0.83831\n",
      "[73]\ttest-mlogloss:0.83848\n",
      "[74]\ttest-mlogloss:0.83866\n",
      "[75]\ttest-mlogloss:0.83883\n",
      "[76]\ttest-mlogloss:0.83900\n",
      "[77]\ttest-mlogloss:0.83917\n",
      "[78]\ttest-mlogloss:0.83933\n",
      "[79]\ttest-mlogloss:0.83950\n",
      "[80]\ttest-mlogloss:0.83966\n",
      "[81]\ttest-mlogloss:0.83983\n",
      "[82]\ttest-mlogloss:0.83999\n",
      "[83]\ttest-mlogloss:0.84015\n",
      "[84]\ttest-mlogloss:0.84031\n",
      "[85]\ttest-mlogloss:0.84047\n",
      "[86]\ttest-mlogloss:0.84063\n",
      "[87]\ttest-mlogloss:0.84078\n",
      "[88]\ttest-mlogloss:0.84094\n",
      "[89]\ttest-mlogloss:0.84109\n",
      "[90]\ttest-mlogloss:0.84124\n",
      "[91]\ttest-mlogloss:0.84137\n",
      "[92]\ttest-mlogloss:0.84152\n",
      "[93]\ttest-mlogloss:0.84166\n",
      "[94]\ttest-mlogloss:0.84180\n",
      "[95]\ttest-mlogloss:0.84193\n",
      "[96]\ttest-mlogloss:0.84207\n",
      "[97]\ttest-mlogloss:0.84220\n",
      "[98]\ttest-mlogloss:0.84234\n",
      "[99]\ttest-mlogloss:0.84248\n"
     ]
    }
   ],
   "source": [
    "# 訓練模型\n",
    "num_round = 100\n",
    "bst = xgb.train(param, dtrain, num_round, evals=[(dtest, 'test')])"
   ]
  },
  {
   "cell_type": "code",
   "execution_count": 92,
   "id": "ee504065",
   "metadata": {},
   "outputs": [
    {
     "name": "stdout",
     "output_type": "stream",
     "text": [
      "Accuracy: 0.6668\n"
     ]
    }
   ],
   "source": [
    "# Loss 有成功降低\n",
    "# 預測\n",
    "y_pred = bst.predict(dtest)\n",
    "accuracy = accuracy_score(y_test, y_pred)\n",
    "print(f\"Accuracy: {accuracy:.4f}\")\n"
   ]
  },
  {
   "cell_type": "markdown",
   "id": "d9c89927",
   "metadata": {},
   "source": [
    "## Neural Network - Sentiment Classifier"
   ]
  },
  {
   "cell_type": "code",
   "execution_count": 135,
   "id": "386f0654",
   "metadata": {},
   "outputs": [],
   "source": [
    "import torch\n",
    "import torch.nn as nn\n",
    "import torch.optim as optim\n",
    "from torch.utils.data import DataLoader, TensorDataset\n",
    "\n",
    "\n",
    "device = torch.device(\"cuda\" if torch.cuda.is_available() else \"cpu\")\n",
    "\n",
    "# 定義模型\n",
    "class SentimentClassifier(nn.Module):\n",
    "    def __init__(self, input_dim):\n",
    "        super(SentimentClassifier, self).__init__()\n",
    "        self.fc1 = nn.Linear(input_dim, 256)\n",
    "        self.fc2 = nn.Linear(256, 128)\n",
    "        self.fc3 = nn.Linear(128, 5)  # 5 classes for ratings 1-5\n",
    "\n",
    "    def forward(self, x):\n",
    "        x = torch.relu(self.fc1(x))\n",
    "        x = torch.relu(self.fc2(x))\n",
    "        x = self.fc3(x)\n",
    "        return x"
   ]
  },
  {
   "cell_type": "code",
   "execution_count": 136,
   "id": "d45ef746",
   "metadata": {},
   "outputs": [
    {
     "data": {
      "text/plain": [
       "((16445, 512), (16445,), (4112, 512), (4112,))"
      ]
     },
     "execution_count": 136,
     "metadata": {},
     "output_type": "execute_result"
    }
   ],
   "source": [
    "X_train.shape, y_train.shape, X_test.shape, y_test.shape"
   ]
  },
  {
   "cell_type": "code",
   "execution_count": 137,
   "id": "f071b0aa",
   "metadata": {},
   "outputs": [
    {
     "data": {
      "text/plain": [
       "(torch.Size([16445, 512]),\n",
       " torch.Size([16445]),\n",
       " torch.Size([4112, 512]),\n",
       " torch.Size([4112]))"
      ]
     },
     "execution_count": 137,
     "metadata": {},
     "output_type": "execute_result"
    }
   ],
   "source": [
    "# 1. 將numpy arrays轉換為PyTorch tensors\n",
    "X_train_tensor = torch.tensor(X_train, dtype=torch.float32)  # 詞向量是浮點數\n",
    "y_train_tensor = torch.tensor(y_train, dtype=torch.long) - 1  # 將1-5的rating轉換為0-4\n",
    "X_test_tensor = torch.tensor(X_test, dtype=torch.float32)  # 詞向量是浮點數\n",
    "y_test_tensor = torch.tensor(y_test, dtype=torch.long) - 1  # 將1-5的rating轉換為0-4\n",
    "\n",
    "X_train_tensor = X_train_tensor.to(device)\n",
    "y_train_tensor = y_train_tensor.to(device)\n",
    "X_test_tensor = X_test_tensor.to(device)\n",
    "y_test_tensor = y_test_tensor.to(device)\n",
    "X_train_tensor.shape, y_train_tensor.shape, X_test_tensor.shape, y_test_tensor.shape"
   ]
  },
  {
   "cell_type": "code",
   "execution_count": 138,
   "id": "8658060c",
   "metadata": {},
   "outputs": [],
   "source": [
    "# 2. 使用TensorDataset將X和y組合成一個數據集\n",
    "dataset = TensorDataset(X_tensor, y_tensor)\n",
    "# 3. 使用DataLoader來批量處理數據\n",
    "batch_size = 64\n",
    "train_loader = DataLoader(dataset, batch_size=batch_size, shuffle=True)"
   ]
  },
  {
   "cell_type": "code",
   "execution_count": 139,
   "id": "6f976fe5",
   "metadata": {},
   "outputs": [
    {
     "data": {
      "text/plain": [
       "SentimentClassifier(\n",
       "  (fc1): Linear(in_features=512, out_features=256, bias=True)\n",
       "  (fc2): Linear(in_features=256, out_features=128, bias=True)\n",
       "  (fc3): Linear(in_features=128, out_features=5, bias=True)\n",
       ")"
      ]
     },
     "execution_count": 139,
     "metadata": {},
     "output_type": "execute_result"
    }
   ],
   "source": [
    "# 4. 初始化模型、損失函數和優化器\n",
    "model = SentimentClassifier(X_train.shape[1])\n",
    "criterion = nn.CrossEntropyLoss()\n",
    "optimizer = optim.Adam(model.parameters(), lr=0.001)\n",
    "model.to(device)"
   ]
  },
  {
   "cell_type": "code",
   "execution_count": 141,
   "id": "64e66be4",
   "metadata": {},
   "outputs": [
    {
     "name": "stdout",
     "output_type": "stream",
     "text": [
      "Epoch [1/100], Loss: 0.7891\n",
      "Epoch [2/100], Loss: 0.7604\n",
      "Epoch [3/100], Loss: 0.7342\n",
      "Epoch [4/100], Loss: 0.7067\n",
      "Epoch [5/100], Loss: 0.6744\n",
      "Epoch [6/100], Loss: 0.6336\n",
      "Epoch [7/100], Loss: 0.5886\n",
      "Epoch [8/100], Loss: 0.5431\n",
      "Epoch [9/100], Loss: 0.4941\n",
      "Epoch [10/100], Loss: 0.4447\n",
      "Epoch [11/100], Loss: 0.3939\n",
      "Epoch [12/100], Loss: 0.3470\n",
      "Epoch [13/100], Loss: 0.3041\n",
      "Epoch [14/100], Loss: 0.2697\n",
      "Epoch [15/100], Loss: 0.2353\n",
      "Epoch [16/100], Loss: 0.2132\n",
      "Epoch [17/100], Loss: 0.1958\n",
      "Epoch [18/100], Loss: 0.1841\n",
      "Epoch [19/100], Loss: 0.1703\n",
      "Epoch [20/100], Loss: 0.1612\n",
      "Epoch [21/100], Loss: 0.1553\n",
      "Epoch [22/100], Loss: 0.1538\n",
      "Epoch [23/100], Loss: 0.1462\n",
      "Epoch [24/100], Loss: 0.1442\n",
      "Epoch [25/100], Loss: 0.1420\n",
      "Epoch [26/100], Loss: 0.1396\n",
      "Epoch [27/100], Loss: 0.1347\n",
      "Epoch [28/100], Loss: 0.1348\n",
      "Epoch [29/100], Loss: 0.1327\n",
      "Epoch [30/100], Loss: 0.1334\n",
      "Epoch [31/100], Loss: 0.1391\n",
      "Epoch [32/100], Loss: 0.1334\n",
      "Epoch [33/100], Loss: 0.1265\n",
      "Epoch [34/100], Loss: 0.1222\n",
      "Epoch [35/100], Loss: 0.1227\n",
      "Epoch [36/100], Loss: 0.1228\n",
      "Epoch [37/100], Loss: 0.1341\n",
      "Epoch [38/100], Loss: 0.1286\n",
      "Epoch [39/100], Loss: 0.1235\n",
      "Epoch [40/100], Loss: 0.1181\n",
      "Epoch [41/100], Loss: 0.1151\n",
      "Epoch [42/100], Loss: 0.1151\n",
      "Epoch [43/100], Loss: 0.1141\n",
      "Epoch [44/100], Loss: 0.1141\n",
      "Epoch [45/100], Loss: 0.1192\n",
      "Epoch [46/100], Loss: 0.1193\n",
      "Epoch [47/100], Loss: 0.1308\n",
      "Epoch [48/100], Loss: 0.1437\n",
      "Epoch [49/100], Loss: 0.1156\n",
      "Epoch [50/100], Loss: 0.1112\n",
      "Epoch [51/100], Loss: 0.1091\n",
      "Epoch [52/100], Loss: 0.1088\n",
      "Epoch [53/100], Loss: 0.1081\n",
      "Epoch [54/100], Loss: 0.1087\n",
      "Epoch [55/100], Loss: 0.1078\n",
      "Epoch [56/100], Loss: 0.1118\n",
      "Epoch [57/100], Loss: 0.1510\n",
      "Epoch [58/100], Loss: 0.1261\n",
      "Epoch [59/100], Loss: 0.1113\n",
      "Epoch [60/100], Loss: 0.1065\n",
      "Epoch [61/100], Loss: 0.1038\n",
      "Epoch [62/100], Loss: 0.1037\n",
      "Epoch [63/100], Loss: 0.1055\n",
      "Epoch [64/100], Loss: 0.1062\n",
      "Epoch [65/100], Loss: 0.1062\n",
      "Epoch [66/100], Loss: 0.1051\n",
      "Epoch [67/100], Loss: 0.1054\n",
      "Epoch [68/100], Loss: 0.1070\n",
      "Epoch [69/100], Loss: 0.1130\n",
      "Epoch [70/100], Loss: 0.1758\n",
      "Epoch [71/100], Loss: 0.1167\n",
      "Epoch [72/100], Loss: 0.1037\n",
      "Epoch [73/100], Loss: 0.1013\n",
      "Epoch [74/100], Loss: 0.1011\n",
      "Epoch [75/100], Loss: 0.1005\n",
      "Epoch [76/100], Loss: 0.1023\n",
      "Epoch [77/100], Loss: 0.1021\n",
      "Epoch [78/100], Loss: 0.1065\n",
      "Epoch [79/100], Loss: 0.1331\n",
      "Epoch [80/100], Loss: 0.1307\n",
      "Epoch [81/100], Loss: 0.1086\n",
      "Epoch [82/100], Loss: 0.1037\n",
      "Epoch [83/100], Loss: 0.1003\n",
      "Epoch [84/100], Loss: 0.0992\n",
      "Epoch [85/100], Loss: 0.1001\n",
      "Epoch [86/100], Loss: 0.0998\n",
      "Epoch [87/100], Loss: 0.1011\n",
      "Epoch [88/100], Loss: 0.1005\n",
      "Epoch [89/100], Loss: 0.1016\n",
      "Epoch [90/100], Loss: 0.1031\n",
      "Epoch [91/100], Loss: 0.1667\n",
      "Epoch [92/100], Loss: 0.1179\n",
      "Epoch [93/100], Loss: 0.1040\n",
      "Epoch [94/100], Loss: 0.0994\n",
      "Epoch [95/100], Loss: 0.0983\n",
      "Epoch [96/100], Loss: 0.0984\n",
      "Epoch [97/100], Loss: 0.0986\n",
      "Epoch [98/100], Loss: 0.0993\n",
      "Epoch [99/100], Loss: 0.0988\n",
      "Epoch [100/100], Loss: 0.1000\n",
      "Training complete.\n"
     ]
    }
   ],
   "source": [
    "# 5. 訓練模型\n",
    "epochs = 100\n",
    "# 訓練模型\n",
    "for epoch in range(epochs):\n",
    "    model.train()\n",
    "    running_loss = 0.0\n",
    "    for batch_idx, (inputs, labels) in enumerate(train_loader):\n",
    "        inputs, labels = inputs.to(device), labels.to(device)\n",
    "        optimizer.zero_grad()\n",
    "        outputs = model(inputs)\n",
    "        loss = criterion(outputs, labels)\n",
    "        loss.backward()\n",
    "        optimizer.step()\n",
    "        running_loss += loss.item() * inputs.size(0)\n",
    "    epoch_loss = running_loss / len(train_loader.dataset)\n",
    "    print(f'Epoch [{epoch+1}/{epochs}], Loss: {epoch_loss:.4f}')\n",
    "print(\"Training complete.\")\n"
   ]
  },
  {
   "cell_type": "code",
   "execution_count": 147,
   "id": "d3a0bb43",
   "metadata": {},
   "outputs": [
    {
     "name": "stdout",
     "output_type": "stream",
     "text": [
      "Accuracy: 0.2121\n"
     ]
    }
   ],
   "source": [
    "with torch.no_grad():\n",
    "    model.eval()\n",
    "    predictions = model(X_test_tensor)\n",
    "    _, predicted_classes = torch.max(predictions, 1)\n",
    "    correct = (predicted_classes == y_test_tensor).sum().item()\n",
    "    accuracy = correct / len(y_test)\n",
    "    print(f\"Accuracy: {accuracy:.4f}\")"
   ]
  },
  {
   "cell_type": "code",
   "execution_count": 149,
   "id": "d1b91749",
   "metadata": {},
   "outputs": [],
   "source": [
    "# 儲存權重\n",
    "torch.save(model.state_dict(), 'model_weights.pth')"
   ]
  },
  {
   "cell_type": "code",
   "execution_count": null,
   "id": "76dee546",
   "metadata": {},
   "outputs": [],
   "source": []
  }
 ],
 "metadata": {
  "kernelspec": {
   "display_name": "Python 3",
   "language": "python",
   "name": "python3"
  },
  "language_info": {
   "codemirror_mode": {
    "name": "ipython",
    "version": 3
   },
   "file_extension": ".py",
   "mimetype": "text/x-python",
   "name": "python",
   "nbconvert_exporter": "python",
   "pygments_lexer": "ipython3",
   "version": "3.8.0"
  },
  "papermill": {
   "default_parameters": {},
   "duration": 31.646452,
   "end_time": "2023-08-27T05:07:33.351511",
   "environment_variables": {},
   "exception": true,
   "input_path": "__notebook__.ipynb",
   "output_path": "__notebook__.ipynb",
   "parameters": {},
   "start_time": "2023-08-27T05:07:01.705059",
   "version": "2.4.0"
  }
 },
 "nbformat": 4,
 "nbformat_minor": 5
}
